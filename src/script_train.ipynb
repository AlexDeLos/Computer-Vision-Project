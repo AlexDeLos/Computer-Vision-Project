{
 "cells": [
  {
   "cell_type": "code",
   "execution_count": null,
   "metadata": {},
   "outputs": [],
   "source": [
    "import numpy as np\n",
    "import torch.nn as nn\n",
    "from dataset import CityscapesDataset\n",
    "from torchvision.datasets import Cityscapes\n",
    "import torch.nn.functional as F\n",
    "from GenISP import *\n",
    "from unet import *\n",
    "import matplotlib.pyplot as plt\n",
    "from torch.utils.data import Dataset, DataLoader\n",
    "import os \n",
    "from tqdm import trange"
   ]
  },
  {
   "cell_type": "code",
   "execution_count": null,
   "metadata": {},
   "outputs": [],
   "source": [
    "# ALL CREDITS TO https://github.com/goldbattle/pytorch_unet/blob/master/script_train.py FOR DATASET CLASS!\n",
    "# path = \"/Users/charlesdowns/Desktop/cityscapes_mini/\" # Mini dataset on Macbook\n",
    "path = \"D:\\Deep learing low light images dataset\\cityscapes_mini\\cityscapes_mini\"\n",
    "img_data = CityscapesDataset(path, split='train', mode='fine')\n",
    "img_batch = torch.utils.data.DataLoader(img_data, batch_size=1, shuffle=True, num_workers=16)"
   ]
  },
  {
   "cell_type": "code",
   "execution_count": null,
   "metadata": {},
   "outputs": [],
   "source": [
    "# Hyperparameters and stuff\n",
    "device = torch.device(\"cuda:0\" if torch.cuda.is_available() else \"cpu\")\n",
    "if torch.backends.mps.is_available():\n",
    "    device = torch.device(\"mps\")\n",
    "print(device)\n",
    "\n",
    "# Set model parameters\n",
    "epochs = 5\n",
    "learning_rate = 0.001\n",
    "in_c = 3\n",
    "\n",
    "# Create the model\n",
    "in_channels = 3 # Raw RGB image\n",
    "hidden_channels = [16, 32, 128, 16, 64, 3]\n",
    "out_features = 3 # GenISP output channels\n",
    "PreNet = GenISPV2( in_channels, hidden_channels, out_features)\n",
    "UNet = UNet(in_c, img_data.num_classes, 64)\n",
    "# Net = nn.Sequential(PreNet,UNet)\n",
    "PreNet.to(device)\n",
    "UNet.to(device)\n",
    "train_loss = []\n",
    "\n",
    "# Since our goal here is to segment, we will use the cross entropy loss function and 4 classes (background, road, sky, car)\n",
    "criterion = nn.CrossEntropyLoss() # for segment loss. could also be reconstruction loss, then it is N1 loss \n",
    "num_classes = img_data.num_classes\n",
    "print(num_classes)\n",
    "optimizer = torch.optim.Adam(UNet.parameters(), lr=learning_rate)"
   ]
  },
  {
   "cell_type": "code",
   "execution_count": null,
   "metadata": {},
   "outputs": [],
   "source": [
    "t = trange(epochs, desc=\"Epochs\", leave=True)\n",
    "for epoch in t:\n",
    "    # TODO: use tqdm for progress bar\n",
    "    for idx_batch, (imagergb, labelmask, labelrgb) in enumerate(img_batch):\n",
    "        imagergb = imagergb.to(device)\n",
    "        labelmask = labelmask.to(device)\n",
    "        labelrgb = labelrgb.to(device)\n",
    "        # print(imagergb.shape)\n",
    "        optimizer.zero_grad()\n",
    "        output1 = PreNet(imagergb)\n",
    "        output2 = F.pad(input=output1, pad=(2, 2, 2, 2))\n",
    "        output = UNet(output2)\n",
    "        loss = criterion(output, labelmask)\n",
    "        loss.backward()\n",
    "        optimizer.step()\n",
    "        train_loss.append(loss.item())\n",
    "\n",
    "        if idx_batch % 1000 == 0:\n",
    "            print(\"Epoch: {}/{}, Batch: {}/{}, Loss: {:.4f}\".format(epoch+1, epochs, idx_batch+1, len(img_batch), loss.item()))\n",
    "            # Display the output and ground truth next to eachother \n",
    "            output = output.detach().cpu().numpy()\n",
    "            output = np.argmax(output, axis=1)\n",
    "            output = output.reshape((output.shape[1], output.shape[2]))\n",
    "            labelmask = labelmask.detach().cpu().numpy()\n",
    "            labelmask = labelmask.reshape((labelmask.shape[1], labelmask.shape[2]))\n",
    "            # plt.imshow(output)\n",
    "            # plt.show()\n",
    "            # plt.imshow(labelmask)\n",
    "            # plt.show()\n",
    "            \n",
    "            \n",
    "            # concat output and labelmask\n",
    "            output = np.concatenate((output, labelmask), axis=1)\n",
    "            plt.imshow(output)\n",
    "            plt.show()\n"
   ]
  },
  {
   "cell_type": "code",
   "execution_count": null,
   "metadata": {},
   "outputs": [],
   "source": [
    "# Plot the training loss\n",
    "plt.plot(train_loss)\n",
    "plt.title(\"Train Loss\")\n",
    "plt.xlabel(\"Batch\")\n",
    "plt.ylabel(\"Loss\")\n",
    "plt.show()\n",
    "\n",
    "# Save the model\n",
    "torch.save(Net.state_dict(), \"model.pth\")\n",
    "print(\"Saved PyTorch Model State to model.pth\")"
   ]
  },
  {
   "cell_type": "code",
   "execution_count": null,
   "metadata": {},
   "outputs": [],
   "source": []
  }
 ],
 "metadata": {
  "kernelspec": {
   "display_name": "Python 3",
   "language": "python",
   "name": "python3"
  },
  "language_info": {
   "codemirror_mode": {
    "name": "ipython",
    "version": 3
   },
   "file_extension": ".py",
   "mimetype": "text/x-python",
   "name": "python",
   "nbconvert_exporter": "python",
   "pygments_lexer": "ipython3",
   "version": "3.9.2"
  },
  "orig_nbformat": 4
 },
 "nbformat": 4,
 "nbformat_minor": 2
}
